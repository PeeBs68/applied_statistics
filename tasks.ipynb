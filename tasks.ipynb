{
 "cells": [
  {
   "cell_type": "markdown",
   "metadata": {},
   "source": [
    "# Tasks notebook for applied_statistics"
   ]
  },
  {
   "cell_type": "markdown",
   "metadata": {},
   "source": [
    "## Task 1: Permutations and Combinations"
   ]
  },
  {
   "cell_type": "markdown",
   "metadata": {},
   "source": [
    "Suppose we alter the Lady Tasting Tea (https://en.wikipedia.org/wiki/Lady_tasting_tea) experiment to involve twelve cups of tea. Six have the milk in first and the other six having tea in first. A person claims they have the special power of being able to tell whether the tea or the milk went into a cup first upon tasting it. You agree to accept their claim if they can tell which of the six cups in your experiment had the milk in first.\n",
    "\n",
    "Calculate, using Python, the probability that they select the correct six cups. Here you should assume that they have no special powers in figuring it out, that they are just guessing. Remember to show and justify your workings in code and MarkDown cells.\n",
    "\n",
    "Suppose, now, you are willing to accept one error. Once they select the six cups they think had the milk in first, you will give them the benefit of the doubt should they have selected at least five of the correct cups. Calculate the probability, assuming they have no special powers, that the person makes at most one error.\n",
    "\n",
    "Would you accept two errors? Explain."
   ]
  },
  {
   "cell_type": "code",
   "execution_count": 1,
   "metadata": {},
   "outputs": [],
   "source": [
    "# Import any required functions\n",
    "\n",
    "# math.comb\n",
    "import math\n",
    "\n",
    "# Random Numbers\n",
    "import random\n",
    "\n",
    "# Lists\n",
    "import itertools\n",
    "\n",
    "# Mathematical Functions\n",
    "import numpy as np\n",
    "\n",
    "# Plotting\n",
    "import matplotlib.pyplot as plt\n",
    "\n",
    "# Statistical Functions\n",
    "import scipy.stats as stats\n",
    "\n",
    "# Plotting\n",
    "import seaborn as sns\n",
    "\n",
    "# Statistics\n",
    "from statistics import mean\n",
    "\n",
    "# Dataframes\n",
    "import pandas as pd"
   ]
  },
  {
   "cell_type": "markdown",
   "metadata": {},
   "source": [
    "Define any variables that we will use"
   ]
  },
  {
   "cell_type": "code",
   "execution_count": 2,
   "metadata": {},
   "outputs": [],
   "source": [
    "# Variables\n",
    "\n",
    "num_cups_of_tea = 12\n",
    "num_cups_with_milk_first = 6\n",
    "num_cups_with_tea_first = 6"
   ]
  },
  {
   "cell_type": "markdown",
   "metadata": {},
   "source": [
    "Calculate number of ways to choose 6 elements from a list of 12 using math.comb"
   ]
  },
  {
   "cell_type": "code",
   "execution_count": 3,
   "metadata": {},
   "outputs": [
    {
     "data": {
      "text/plain": [
       "924"
      ]
     },
     "execution_count": 3,
     "metadata": {},
     "output_type": "execute_result"
    }
   ],
   "source": [
    "# math.comb\n",
    "# https://docs.python.org/3/library/math.html\n",
    "\n",
    "num_ways = math.comb(num_cups_of_tea, num_cups_with_milk_first)\n",
    "num_ways"
   ]
  },
  {
   "cell_type": "code",
   "execution_count": 4,
   "metadata": {},
   "outputs": [
    {
     "data": {
      "text/plain": [
       "924"
      ]
     },
     "execution_count": 4,
     "metadata": {},
     "output_type": "execute_result"
    }
   ],
   "source": [
    "# Validate the math.comb result using factorials \n",
    "# (https://www.geeksforgeeks.org/factorial-in-python/) and https://docs.python.org/3/library/itertools.html\n",
    "# n! / r! / (n-r)!\n",
    "\n",
    "n = math.factorial(12)\n",
    "r = math.factorial(6)\n",
    "num_ways2 = n //r // math.factorial(12 - 6)\n",
    "num_ways2\n"
   ]
  },
  {
   "cell_type": "markdown",
   "metadata": {},
   "source": [
    "To calcalate the probability of the lady selecting the correct six cups...divide the number of favourable outcomes (i.e. 1) by the total number of possible outcomes (i.e. 924)"
   ]
  },
  {
   "cell_type": "code",
   "execution_count": 5,
   "metadata": {},
   "outputs": [
    {
     "data": {
      "text/plain": [
       "0.0010822510822510823"
      ]
     },
     "execution_count": 5,
     "metadata": {},
     "output_type": "execute_result"
    }
   ],
   "source": [
    "1/num_ways"
   ]
  },
  {
   "cell_type": "markdown",
   "metadata": {},
   "source": [
    "So, roughly 1 in 1000 chance of selecting the correct six cups"
   ]
  },
  {
   "cell_type": "markdown",
   "metadata": {},
   "source": [
    "Next, to calculate the probability that the lady makes at most one error (i.e. selects five or six correct cups) we can calculate the probabilities for each possible outcome."
   ]
  },
  {
   "cell_type": "code",
   "execution_count": 6,
   "metadata": {},
   "outputs": [
    {
     "data": {
      "text/plain": [
       "[0, 1, 2, 3, 4, 5, 6, 7, 8, 9, 10, 11]"
      ]
     },
     "execution_count": 6,
     "metadata": {},
     "output_type": "execute_result"
    }
   ],
   "source": [
    "# Add a label for each cup\n",
    "\n",
    "labels = list(range(num_cups_of_tea))\n",
    "\n",
    "labels"
   ]
  },
  {
   "cell_type": "markdown",
   "metadata": {},
   "source": [
    "Generate a list of the possible combinations of choosing 6 items from a list of 12"
   ]
  },
  {
   "cell_type": "code",
   "execution_count": 7,
   "metadata": {},
   "outputs": [
    {
     "data": {
      "text/plain": [
       "924"
      ]
     },
     "execution_count": 7,
     "metadata": {},
     "output_type": "execute_result"
    }
   ],
   "source": [
    "# Ways/possible combinations to choose six from 12\n",
    "\n",
    "possible_combinations = list(itertools.combinations(labels, num_cups_with_milk_first))\n",
    "\n",
    "len(possible_combinations)\n",
    "#possible_combinations"
   ]
  },
  {
   "cell_type": "markdown",
   "metadata": {},
   "source": [
    "Generate a random selection of six cups to simulate the lady picking them herself."
   ]
  },
  {
   "cell_type": "code",
   "execution_count": 8,
   "metadata": {},
   "outputs": [
    {
     "data": {
      "text/plain": [
       "[1, 3, 6, 7, 8, 10]"
      ]
     },
     "execution_count": 8,
     "metadata": {},
     "output_type": "execute_result"
    }
   ],
   "source": [
    "cups_with_milk_sample = random.sample(labels,6)\n",
    "\n",
    "cups_with_milk_sample.sort()\n",
    "\n",
    "#set(cups_with_milk_sample)\n",
    "cups_with_milk_sample\n"
   ]
  },
  {
   "cell_type": "code",
   "execution_count": 9,
   "metadata": {},
   "outputs": [
    {
     "data": {
      "text/plain": [
       "{1, 3, 6, 7, 8, 10}"
      ]
     },
     "execution_count": 9,
     "metadata": {},
     "output_type": "execute_result"
    }
   ],
   "source": [
    "# Convert the data into a set\n",
    "\n",
    "set(cups_with_milk_sample)"
   ]
  },
  {
   "cell_type": "code",
   "execution_count": 10,
   "metadata": {},
   "outputs": [],
   "source": [
    "# Create a list to hold overlaps between the two sets of data - possible combinations and the randomly selected combination\n",
    "\n",
    "num_overlaps = []\n",
    "\n",
    "for combination in possible_combinations:\n",
    "    s1 = set(combination)\n",
    "    s2 = set(cups_with_milk_sample)\n",
    "    overlap = s1.intersection(s2)\n",
    "    #print(combination, overlap, len(overlap))\n",
    "    num_overlaps.append(len(overlap))\n",
    "\n"
   ]
  },
  {
   "cell_type": "code",
   "execution_count": 11,
   "metadata": {},
   "outputs": [],
   "source": [
    "# Show the number per overlap - commented out for now \n",
    "\n",
    "#num_overlaps"
   ]
  },
  {
   "cell_type": "markdown",
   "metadata": {},
   "source": [
    "Calculate the count of each possible overlap"
   ]
  },
  {
   "cell_type": "code",
   "execution_count": 12,
   "metadata": {},
   "outputs": [
    {
     "data": {
      "text/plain": [
       "(array([0, 1, 2, 3, 4, 5, 6]), array([  1,  36, 225, 400, 225,  36,   1]))"
      ]
     },
     "execution_count": 12,
     "metadata": {},
     "output_type": "execute_result"
    }
   ],
   "source": [
    "counts = np.unique(num_overlaps, return_counts=True)\n",
    "\n",
    "counts"
   ]
  },
  {
   "cell_type": "code",
   "execution_count": 13,
   "metadata": {},
   "outputs": [
    {
     "data": {
      "image/png": "[encoded data removed]",
      "text/plain": [
       "<Figure size 600x800 with 1 Axes>"
      ]
     },
     "metadata": {},
     "output_type": "display_data"
    }
   ],
   "source": [
    "# plot the possibilities of choosing each correct number of cups - from none to six\n",
    "\n",
    "fig, ax = plt.subplots(figsize=(6,8))\n",
    "ax.bar(counts[0], counts[1]);"
   ]
  },
  {
   "cell_type": "markdown",
   "metadata": {},
   "source": [
    "Probability of making one mistake (i.e. picking five of six correctly) is 1+36/924 (i.e. Bin5 + Bin6 in our chart above)"
   ]
  },
  {
   "cell_type": "code",
   "execution_count": 14,
   "metadata": {},
   "outputs": [
    {
     "data": {
      "text/plain": [
       "0.04004329004329004"
      ]
     },
     "execution_count": 14,
     "metadata": {},
     "output_type": "execute_result"
    }
   ],
   "source": [
    "37/924"
   ]
  },
  {
   "cell_type": "markdown",
   "metadata": {},
   "source": [
    "Probability of making two mistakes (i.e. picking four of six correctly) is 225+36+1/924 (i.e. Bin4 + Bin5 + Bin6 in our chart above)"
   ]
  },
  {
   "cell_type": "code",
   "execution_count": 15,
   "metadata": {},
   "outputs": [
    {
     "data": {
      "text/plain": [
       "0.28354978354978355"
      ]
     },
     "execution_count": 15,
     "metadata": {},
     "output_type": "execute_result"
    }
   ],
   "source": [
    "(225+36+1)/924"
   ]
  },
  {
   "cell_type": "markdown",
   "metadata": {},
   "source": [
    "There is a probability of over 28% of making at most two errors, i.e. picking four correctly with six guesses. It would be hard to believe that the lady had any special powers if over a quarter of the time anybody could guess four out of the six correctly."
   ]
  },
  {
   "cell_type": "markdown",
   "metadata": {},
   "source": [
    "## Task 2: numpy's Normal Distribution"
   ]
  },
  {
   "cell_type": "markdown",
   "metadata": {},
   "source": [
    "In this task you will assess whether numpy.random.normal() properly generates normal values. To begin, generate a sample of one hundred thousand values using the function with mean 10.0 and standard deviation 3.0.\n",
    "\n",
    "Use the scipy.stats.shapiro() function to test whether your sample came from a normal distribution. Explain the results and output.\n",
    "\n",
    "Plot a histogram of your values and plot the corresponding normal distribution probability density function on top of it."
   ]
  },
  {
   "cell_type": "code",
   "execution_count": 16,
   "metadata": {},
   "outputs": [
    {
     "data": {
      "text/plain": [
       "array([ 7.34203521, 10.02044791, 12.15416513, ...,  6.45353328,\n",
       "       11.19421913,  9.64102374])"
      ]
     },
     "execution_count": 16,
     "metadata": {},
     "output_type": "execute_result"
    }
   ],
   "source": [
    "# Define variables and generate sample values\n",
    "\n",
    "count = 100000\n",
    "mu = 10.0\n",
    "sigma = 3.0\n",
    "\n",
    "sample = np.random.normal(mu, sigma, count)\n",
    "\n",
    "sample"
   ]
  },
  {
   "cell_type": "markdown",
   "metadata": {},
   "source": [
    "Test for Normality using scipy.stats.shapiro()   \n",
    "https://docs.scipy.org/doc/scipy/reference/generated/scipy.stats.shapiro.html"
   ]
  },
  {
   "cell_type": "code",
   "execution_count": 17,
   "metadata": {},
   "outputs": [
    {
     "name": "stderr",
     "output_type": "stream",
     "text": [
      "/Users/pbarry/anaconda3/lib/python3.11/site-packages/scipy/stats/_morestats.py:1816: UserWarning: p-value may not be accurate for N > 5000.\n",
      "  warnings.warn(\"p-value may not be accurate for N > 5000.\")\n"
     ]
    },
    {
     "data": {
      "text/plain": [
       "ShapiroResult(statistic=0.9999710321426392, pvalue=0.6343457102775574)"
      ]
     },
     "execution_count": 17,
     "metadata": {},
     "output_type": "execute_result"
    }
   ],
   "source": [
    "# Caclulate and display test statistic and p value\n",
    "\n",
    "res = stats.shapiro(sample)\n",
    "res\n",
    "# res.statistic"
   ]
  },
  {
   "cell_type": "markdown",
   "metadata": {},
   "source": [
    "With a $p$ value of 0.809 we have no reason to reject the null hypothesis that the data is normally distributed   \n",
    "https://docs.scipy.org/doc/scipy-1.12.0/reference/generated/scipy.stats.shapiro.html"
   ]
  },
  {
   "cell_type": "markdown",
   "metadata": {},
   "source": [
    "Plot the histogram using an appropriate number of bins"
   ]
  },
  {
   "cell_type": "code",
   "execution_count": 18,
   "metadata": {},
   "outputs": [
    {
     "data": {
      "image/png": "[encoded data removed]",
      "text/plain": [
       "<Figure size 600x800 with 1 Axes>"
      ]
     },
     "metadata": {},
     "output_type": "display_data"
    }
   ],
   "source": [
    "# Plot Histogram\n",
    "\n",
    "fig, ax = plt.subplots(figsize=(6,8))\n",
    "bins = 50\n",
    "plt.hist(sample, bins);"
   ]
  },
  {
   "cell_type": "markdown",
   "metadata": {},
   "source": [
    "Overlay the Probability Density Function on top of the histogram"
   ]
  },
  {
   "cell_type": "code",
   "execution_count": 19,
   "metadata": {},
   "outputs": [
    {
     "data": {
      "image/png": "[encoded data removed]",
      "text/plain": [
       "<Figure size 640x480 with 1 Axes>"
      ]
     },
     "metadata": {},
     "output_type": "display_data"
    }
   ],
   "source": [
    "# Overlay PDF on to Histogram\n",
    "# https://stackoverflow.com/questions/52423635/how-to-plot-normalized-histogram-with-pdf-properly-using-matplotlib\n",
    "# https://docs.scipy.org/doc/scipy/reference/generated/scipy.stats.norm.html\n",
    "\n",
    "sample=np.sort(sample)\n",
    "\n",
    "pdf = stats.norm.pdf(sample,loc=mu,scale=sigma)\n",
    "plt.hist(sample, bins, density=True);\n",
    "plt.plot(sample, pdf, color='r')\n",
    "plt.show() \n"
   ]
  },
  {
   "cell_type": "markdown",
   "metadata": {},
   "source": [
    "## Task 3: $t$ Test Calculation"
   ]
  },
  {
   "cell_type": "markdown",
   "metadata": {},
   "source": [
    "Consider the following dataset containing resting heart rates for patients before and after embarking on a two-week exercise program.\n",
    "\n",
    "| Patient ID | Before | After |\n",
    "| --- | --- | --- |\n",
    "| 0 | 63 | 64 |\n",
    "| 1 | 68 | 64 |\n",
    "| 2 | 70 | 68 |\n",
    "| 3 | 64 | 64 |\n",
    "| 4 | 74 | 73 |\n",
    "| 5 | 67 | 70 |\n",
    "| 6 | 70 | 72 |\n",
    "| 7 | 57 | 54 |\n",
    "| 8 | 66 | 61 |\n",
    "| 9 | 65 | 63 |\n",
    "\n",
    "\n",
    "Calculate the $t$ statistic based on this data set, using Python. Compare it to the value given by scipy.stats. Explain your work and list any sources used."
   ]
  },
  {
   "cell_type": "code",
   "execution_count": 20,
   "metadata": {},
   "outputs": [],
   "source": [
    "# Create the data\n",
    "\n",
    "grp_before = [63,68,70,64,74,67,70,57,66,65]\n",
    "grp_after = (64,64,68,64,73,70,72,54,61,63)"
   ]
  },
  {
   "cell_type": "markdown",
   "metadata": {},
   "source": [
    "Basic statistics to validate that the results will be accurate by checking the following assumptions have been met (https://builtin.com/data-science/t-test-python).   \n",
    "- Independence of observations   \n",
    "- Normality   \n",
    "- Equal variances"
   ]
  },
  {
   "cell_type": "code",
   "execution_count": 21,
   "metadata": {},
   "outputs": [],
   "source": [
    "# Convert to dataframe to use the describe() function\n",
    "\n",
    "grp_after_df = pd.DataFrame(grp_after)\n",
    "grp_before_df = pd.DataFrame(grp_before)"
   ]
  },
  {
   "cell_type": "code",
   "execution_count": 22,
   "metadata": {},
   "outputs": [
    {
     "data": {
      "text/html": [
       "<div>\n",
       "<style scoped>\n",
       "    .dataframe tbody tr th:only-of-type {\n",
       "        vertical-align: middle;\n",
       "    }\n",
       "\n",
       "    .dataframe tbody tr th {\n",
       "        vertical-align: top;\n",
       "    }\n",
       "\n",
       "    .dataframe thead th {\n",
       "        text-align: right;\n",
       "    }\n",
       "</style>\n",
       "<table border=\"1\" class=\"dataframe\">\n",
       "  <thead>\n",
       "    <tr style=\"text-align: right;\">\n",
       "      <th></th>\n",
       "      <th>0</th>\n",
       "    </tr>\n",
       "  </thead>\n",
       "  <tbody>\n",
       "    <tr>\n",
       "      <th>count</th>\n",
       "      <td>10.00000</td>\n",
       "    </tr>\n",
       "    <tr>\n",
       "      <th>mean</th>\n",
       "      <td>66.40000</td>\n",
       "    </tr>\n",
       "    <tr>\n",
       "      <th>std</th>\n",
       "      <td>4.64758</td>\n",
       "    </tr>\n",
       "    <tr>\n",
       "      <th>min</th>\n",
       "      <td>57.00000</td>\n",
       "    </tr>\n",
       "    <tr>\n",
       "      <th>25%</th>\n",
       "      <td>64.25000</td>\n",
       "    </tr>\n",
       "    <tr>\n",
       "      <th>50%</th>\n",
       "      <td>66.50000</td>\n",
       "    </tr>\n",
       "    <tr>\n",
       "      <th>75%</th>\n",
       "      <td>69.50000</td>\n",
       "    </tr>\n",
       "    <tr>\n",
       "      <th>max</th>\n",
       "      <td>74.00000</td>\n",
       "    </tr>\n",
       "  </tbody>\n",
       "</table>\n",
       "</div>"
      ],
      "text/plain": [
       "              0\n",
       "count  10.00000\n",
       "mean   66.40000\n",
       "std     4.64758\n",
       "min    57.00000\n",
       "25%    64.25000\n",
       "50%    66.50000\n",
       "75%    69.50000\n",
       "max    74.00000"
      ]
     },
     "execution_count": 22,
     "metadata": {},
     "output_type": "execute_result"
    }
   ],
   "source": [
    "# SHow the Before data\n",
    "\n",
    "grp_before_df.describe()"
   ]
  },
  {
   "cell_type": "code",
   "execution_count": 23,
   "metadata": {},
   "outputs": [
    {
     "data": {
      "text/html": [
       "<div>\n",
       "<style scoped>\n",
       "    .dataframe tbody tr th:only-of-type {\n",
       "        vertical-align: middle;\n",
       "    }\n",
       "\n",
       "    .dataframe tbody tr th {\n",
       "        vertical-align: top;\n",
       "    }\n",
       "\n",
       "    .dataframe thead th {\n",
       "        text-align: right;\n",
       "    }\n",
       "</style>\n",
       "<table border=\"1\" class=\"dataframe\">\n",
       "  <thead>\n",
       "    <tr style=\"text-align: right;\">\n",
       "      <th></th>\n",
       "      <th>0</th>\n",
       "    </tr>\n",
       "  </thead>\n",
       "  <tbody>\n",
       "    <tr>\n",
       "      <th>count</th>\n",
       "      <td>10.000000</td>\n",
       "    </tr>\n",
       "    <tr>\n",
       "      <th>mean</th>\n",
       "      <td>65.300000</td>\n",
       "    </tr>\n",
       "    <tr>\n",
       "      <th>std</th>\n",
       "      <td>5.677441</td>\n",
       "    </tr>\n",
       "    <tr>\n",
       "      <th>min</th>\n",
       "      <td>54.000000</td>\n",
       "    </tr>\n",
       "    <tr>\n",
       "      <th>25%</th>\n",
       "      <td>63.250000</td>\n",
       "    </tr>\n",
       "    <tr>\n",
       "      <th>50%</th>\n",
       "      <td>64.000000</td>\n",
       "    </tr>\n",
       "    <tr>\n",
       "      <th>75%</th>\n",
       "      <td>69.500000</td>\n",
       "    </tr>\n",
       "    <tr>\n",
       "      <th>max</th>\n",
       "      <td>73.000000</td>\n",
       "    </tr>\n",
       "  </tbody>\n",
       "</table>\n",
       "</div>"
      ],
      "text/plain": [
       "               0\n",
       "count  10.000000\n",
       "mean   65.300000\n",
       "std     5.677441\n",
       "min    54.000000\n",
       "25%    63.250000\n",
       "50%    64.000000\n",
       "75%    69.500000\n",
       "max    73.000000"
      ]
     },
     "execution_count": 23,
     "metadata": {},
     "output_type": "execute_result"
    }
   ],
   "source": [
    "# Show the After data\n",
    "\n",
    "grp_after_df.describe()"
   ]
  },
  {
   "cell_type": "markdown",
   "metadata": {},
   "source": [
    "We can see a significant difference in the mean resting heart rate, reducing from 66.4 down to 65.3 beats per minute!"
   ]
  },
  {
   "cell_type": "markdown",
   "metadata": {},
   "source": [
    "Visualise the data in graphs"
   ]
  },
  {
   "cell_type": "code",
   "execution_count": 24,
   "metadata": {},
   "outputs": [
    {
     "data": {
      "image/png": "[encoded data removed]",
      "text/plain": [
       "<Figure size 640x480 with 1 Axes>"
      ]
     },
     "metadata": {},
     "output_type": "display_data"
    }
   ],
   "source": [
    "# Plot the data using a strip plot\n",
    "\n",
    "sns.stripplot(data=[grp_before, grp_after]);"
   ]
  },
  {
   "cell_type": "markdown",
   "metadata": {},
   "source": [
    "### Calculate $t$ statistic using python ###\n",
    "\n",
    "Using a paired samples $t$ test as the data comes from a before and after scenario (https://www.jmp.com/en_nl/statistics-knowledge-portal/t-test/paired-t-test.html)"
   ]
  },
  {
   "cell_type": "markdown",
   "metadata": {},
   "source": [
    "Students's $t$ test for paired samples formula from https://en.wikipedia.org/wiki/Student%27s_t-test\n",
    "\n",
    "$t = $ $\\bar{X}_{D}$ - $\\mu_{0}$ $/s_{D}$ $/$ $\\sqrt n$\n",
    "\n",
    "$\\bar{X}_{D}$ - average of the differences between all pairs   \n",
    "$s_{D}$ - standard deviation of the differences between all pairs   \n",
    "The constant μ0 is zero if we want to test whether the average of the difference is significantly different   \n",
    "The degree of freedom used is $n − 1$, where $n$ represents the number of pairs"
   ]
  },
  {
   "cell_type": "code",
   "execution_count": 25,
   "metadata": {},
   "outputs": [],
   "source": [
    "# Using the above formula in python\n",
    "# Calculate the values we need for the formula\n",
    "\n",
    "# Differences in the means\n",
    "mean_diff = (np.mean(grp_before) - np.mean(grp_after))\n",
    "\n",
    "# Standard Deviation of the two groups\n",
    "diff_group = []\n",
    "x = 0\n",
    "while x < 10:\n",
    "    diff_group.append(grp_before[x] - grp_after[x])\n",
    "    x+= 1\n",
    "std_dev = np.std(diff_group)\n",
    "\n",
    "# Average difference\n",
    "ave_diff = sum(diff_group)/10"
   ]
  },
  {
   "cell_type": "code",
   "execution_count": 26,
   "metadata": {},
   "outputs": [
    {
     "data": {
      "text/plain": [
       "1.337227482480628"
      ]
     },
     "execution_count": 26,
     "metadata": {},
     "output_type": "execute_result"
    }
   ],
   "source": [
    "# Calculate the t statistic\n",
    "\n",
    "python_t_stat = ave_diff/(std_dev/math.sqrt(len(diff_group)-1))\n",
    "python_t_stat"
   ]
  },
  {
   "cell_type": "markdown",
   "metadata": {},
   "source": [
    "Calculate $t$ statistic using scipy.stats"
   ]
  },
  {
   "cell_type": "code",
   "execution_count": 27,
   "metadata": {},
   "outputs": [
    {
     "data": {
      "text/plain": [
       "TtestResult(statistic=1.337227482480628, pvalue=0.21396011317404623, df=9)"
      ]
     },
     "execution_count": 27,
     "metadata": {},
     "output_type": "execute_result"
    }
   ],
   "source": [
    "# Using scipy.stats\n",
    "# https://docs.scipy.org/doc/scipy/reference/generated/scipy.stats.ttest_rel.html#ttest-rel\n",
    "\n",
    "stats.ttest_rel(grp_before, grp_after)"
   ]
  },
  {
   "cell_type": "markdown",
   "metadata": {},
   "source": [
    "The results above show the same $t$ statistic value is reached when calculating using the $t$ test formula retrieved from Wikipedia and when using the scipy.stats formula."
   ]
  },
  {
   "cell_type": "markdown",
   "metadata": {},
   "source": [
    "## Task 4: ANOVA"
   ]
  },
  {
   "cell_type": "markdown",
   "metadata": {},
   "source": [
    "In this test we will estimate the probability of committing a type II error in specific circumstances. To begin, create a variable called no_type_ii and set it to 0.\n",
    "\n",
    "Now use a loop to perform the following test 10,000 times.\n",
    "\n",
    "Use numpy.random.normal to generate three samples with 100 values each. Give each a standard deviation of 0.1. Give the first sample a mean of 4.9, the second a mean of 5.0, and the third a mean of 5.1.\n",
    "\n",
    "Perform one-way anova on the three samples and add 1 to no_type_ii whenever a type II error occurs.\n",
    "\n",
    "Summarize and explain your results."
   ]
  },
  {
   "cell_type": "code",
   "execution_count": 28,
   "metadata": {},
   "outputs": [],
   "source": [
    "# Generate variable to store number of type II errors\n",
    "\n",
    "no_type_ii = 0"
   ]
  },
  {
   "cell_type": "markdown",
   "metadata": {},
   "source": [
    "Initialise the variables to use for the test"
   ]
  },
  {
   "cell_type": "code",
   "execution_count": 29,
   "metadata": {},
   "outputs": [],
   "source": [
    "# Define variables\n",
    "\n",
    "count = 100\n",
    "x = 0\n",
    "mu1 = 4.9\n",
    "mu2 = 5.0\n",
    "mu3 = 5.1\n",
    "sigma = 0.1"
   ]
  },
  {
   "cell_type": "markdown",
   "metadata": {},
   "source": [
    "Perform the ANOVA test\n",
    "\n",
    "An ANOVA test compares the means of two or more independent groups of data and will confirm if the means are significantly different. A type II error occurs when we fail to reject a null hypothesis that is actually false."
   ]
  },
  {
   "cell_type": "code",
   "execution_count": 30,
   "metadata": {},
   "outputs": [
    {
     "name": "stdout",
     "output_type": "stream",
     "text": [
      "Number of type II errors: 0\n"
     ]
    }
   ],
   "source": [
    "# Perform the ANOVA test 10,000 times\n",
    "\n",
    "# Loop through 10000 times\n",
    "while x < 10000:\n",
    "    sample1 = np.random.normal(mu1, sigma, count)\n",
    "    sample2 = np.random.normal(mu2, sigma, count)\n",
    "    sample3 = np.random.normal(mu3, sigma, count)\n",
    "    f_statistic, p_value = stats.f_oneway(sample1, sample2, sample3)\n",
    "    #print(f_statistic, p_value)\n",
    "\n",
    "    # Increment error count\n",
    "    if (p_value > 0.05):\n",
    "        no_type_ii = no_type_ii+1\n",
    "    x=x+1\n",
    "\n",
    "# Display the result\n",
    "print (f'Number of type II errors: {no_type_ii}')"
   ]
  },
  {
   "cell_type": "markdown",
   "metadata": {},
   "source": [
    "Given that the data we were using had different means we would expect to see the $p$ value being less than the alpha value of 0.05 every time we run the test. This would result in correctly rejecting the null hypothesis that the means are the same and accepting the alternative hypothesis that at least one of the means is different. "
   ]
  },
  {
   "cell_type": "markdown",
   "metadata": {},
   "source": [
    "## End"
   ]
  }
 ],
 "metadata": {
  "kernelspec": {
   "display_name": "base",
   "language": "python",
   "name": "python3"
  },
  "language_info": {
   "codemirror_mode": {
    "name": "ipython",
    "version": 3
   },
   "file_extension": ".py",
   "mimetype": "text/x-python",
   "name": "python",
   "nbconvert_exporter": "python",
   "pygments_lexer": "ipython3",
   "version": "3.11.4"
  }
 },
 "nbformat": 4,
 "nbformat_minor": 2
}
