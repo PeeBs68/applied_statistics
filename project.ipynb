{
 "cells": [
  {
   "cell_type": "markdown",
   "metadata": {},
   "source": [
    "Project notebook for applied_statistics"
   ]
  },
  {
   "cell_type": "markdown",
   "metadata": {},
   "source": [
    "This notebook is designed to analyse the PlantGrowth dataset and perform statistical analysis on it using t-test and ANOVA methods.\n",
    "The dataset was downloaded from https://github.com/vincentarelbundock/Rdatasets/blob/master/csv/datasets/PlantGrowth.csv and contains results of an experiment to compare the weights of plants under three different conditions.\n"
   ]
  },
  {
   "cell_type": "code",
   "execution_count": 33,
   "metadata": {},
   "outputs": [],
   "source": [
    "# Import any required modules\n",
    "\n",
    "# Data Frames\n",
    "import pandas as pd\n",
    "\n",
    "# Numerical Arrays\n",
    "import numpy as np\n",
    "\n",
    "# Plotting\n",
    "import matplotlib.pyplot as plt"
   ]
  },
  {
   "cell_type": "code",
   "execution_count": 34,
   "metadata": {},
   "outputs": [
    {
     "data": {
      "text/html": [
       "<div>\n",
       "<style scoped>\n",
       "    .dataframe tbody tr th:only-of-type {\n",
       "        vertical-align: middle;\n",
       "    }\n",
       "\n",
       "    .dataframe tbody tr th {\n",
       "        vertical-align: top;\n",
       "    }\n",
       "\n",
       "    .dataframe thead th {\n",
       "        text-align: right;\n",
       "    }\n",
       "</style>\n",
       "<table border=\"1\" class=\"dataframe\">\n",
       "  <thead>\n",
       "    <tr style=\"text-align: right;\">\n",
       "      <th></th>\n",
       "      <th>rownames</th>\n",
       "      <th>weight</th>\n",
       "      <th>group</th>\n",
       "    </tr>\n",
       "  </thead>\n",
       "  <tbody>\n",
       "    <tr>\n",
       "      <th>0</th>\n",
       "      <td>1</td>\n",
       "      <td>4.17</td>\n",
       "      <td>ctrl</td>\n",
       "    </tr>\n",
       "    <tr>\n",
       "      <th>1</th>\n",
       "      <td>2</td>\n",
       "      <td>5.58</td>\n",
       "      <td>ctrl</td>\n",
       "    </tr>\n",
       "    <tr>\n",
       "      <th>2</th>\n",
       "      <td>3</td>\n",
       "      <td>5.18</td>\n",
       "      <td>ctrl</td>\n",
       "    </tr>\n",
       "    <tr>\n",
       "      <th>3</th>\n",
       "      <td>4</td>\n",
       "      <td>6.11</td>\n",
       "      <td>ctrl</td>\n",
       "    </tr>\n",
       "    <tr>\n",
       "      <th>4</th>\n",
       "      <td>5</td>\n",
       "      <td>4.50</td>\n",
       "      <td>ctrl</td>\n",
       "    </tr>\n",
       "  </tbody>\n",
       "</table>\n",
       "</div>"
      ],
      "text/plain": [
       "   rownames  weight group\n",
       "0         1    4.17  ctrl\n",
       "1         2    5.58  ctrl\n",
       "2         3    5.18  ctrl\n",
       "3         4    6.11  ctrl\n",
       "4         5    4.50  ctrl"
      ]
     },
     "execution_count": 34,
     "metadata": {},
     "output_type": "execute_result"
    }
   ],
   "source": [
    "# Import the data into a dataframe \n",
    "\n",
    "df = pd.read_csv('PlantGrowth.csv')\n",
    "\n",
    "df.head()"
   ]
  },
  {
   "cell_type": "markdown",
   "metadata": {},
   "source": [
    "Describe the data"
   ]
  },
  {
   "cell_type": "code",
   "execution_count": 35,
   "metadata": {},
   "outputs": [
    {
     "data": {
      "text/html": [
       "<div>\n",
       "<style scoped>\n",
       "    .dataframe tbody tr th:only-of-type {\n",
       "        vertical-align: middle;\n",
       "    }\n",
       "\n",
       "    .dataframe tbody tr th {\n",
       "        vertical-align: top;\n",
       "    }\n",
       "\n",
       "    .dataframe thead th {\n",
       "        text-align: right;\n",
       "    }\n",
       "</style>\n",
       "<table border=\"1\" class=\"dataframe\">\n",
       "  <thead>\n",
       "    <tr style=\"text-align: right;\">\n",
       "      <th></th>\n",
       "      <th>rownames</th>\n",
       "      <th>weight</th>\n",
       "    </tr>\n",
       "  </thead>\n",
       "  <tbody>\n",
       "    <tr>\n",
       "      <th>count</th>\n",
       "      <td>30.000000</td>\n",
       "      <td>30.000000</td>\n",
       "    </tr>\n",
       "    <tr>\n",
       "      <th>mean</th>\n",
       "      <td>15.500000</td>\n",
       "      <td>5.073000</td>\n",
       "    </tr>\n",
       "    <tr>\n",
       "      <th>std</th>\n",
       "      <td>8.803408</td>\n",
       "      <td>0.701192</td>\n",
       "    </tr>\n",
       "    <tr>\n",
       "      <th>min</th>\n",
       "      <td>1.000000</td>\n",
       "      <td>3.590000</td>\n",
       "    </tr>\n",
       "    <tr>\n",
       "      <th>25%</th>\n",
       "      <td>8.250000</td>\n",
       "      <td>4.550000</td>\n",
       "    </tr>\n",
       "    <tr>\n",
       "      <th>50%</th>\n",
       "      <td>15.500000</td>\n",
       "      <td>5.155000</td>\n",
       "    </tr>\n",
       "    <tr>\n",
       "      <th>75%</th>\n",
       "      <td>22.750000</td>\n",
       "      <td>5.530000</td>\n",
       "    </tr>\n",
       "    <tr>\n",
       "      <th>max</th>\n",
       "      <td>30.000000</td>\n",
       "      <td>6.310000</td>\n",
       "    </tr>\n",
       "  </tbody>\n",
       "</table>\n",
       "</div>"
      ],
      "text/plain": [
       "        rownames     weight\n",
       "count  30.000000  30.000000\n",
       "mean   15.500000   5.073000\n",
       "std     8.803408   0.701192\n",
       "min     1.000000   3.590000\n",
       "25%     8.250000   4.550000\n",
       "50%    15.500000   5.155000\n",
       "75%    22.750000   5.530000\n",
       "max    30.000000   6.310000"
      ]
     },
     "execution_count": 35,
     "metadata": {},
     "output_type": "execute_result"
    }
   ],
   "source": [
    "df.describe()"
   ]
  },
  {
   "cell_type": "code",
   "execution_count": 36,
   "metadata": {},
   "outputs": [
    {
     "data": {
      "text/plain": [
       "(30, 3)"
      ]
     },
     "execution_count": 36,
     "metadata": {},
     "output_type": "execute_result"
    }
   ],
   "source": [
    "df.shape"
   ]
  },
  {
   "cell_type": "code",
   "execution_count": 37,
   "metadata": {},
   "outputs": [
    {
     "data": {
      "text/plain": [
       "<bound method DataFrame.info of     rownames  weight group\n",
       "0          1    4.17  ctrl\n",
       "1          2    5.58  ctrl\n",
       "2          3    5.18  ctrl\n",
       "3          4    6.11  ctrl\n",
       "4          5    4.50  ctrl\n",
       "5          6    4.61  ctrl\n",
       "6          7    5.17  ctrl\n",
       "7          8    4.53  ctrl\n",
       "8          9    5.33  ctrl\n",
       "9         10    5.14  ctrl\n",
       "10        11    4.81  trt1\n",
       "11        12    4.17  trt1\n",
       "12        13    4.41  trt1\n",
       "13        14    3.59  trt1\n",
       "14        15    5.87  trt1\n",
       "15        16    3.83  trt1\n",
       "16        17    6.03  trt1\n",
       "17        18    4.89  trt1\n",
       "18        19    4.32  trt1\n",
       "19        20    4.69  trt1\n",
       "20        21    6.31  trt2\n",
       "21        22    5.12  trt2\n",
       "22        23    5.54  trt2\n",
       "23        24    5.50  trt2\n",
       "24        25    5.37  trt2\n",
       "25        26    5.29  trt2\n",
       "26        27    4.92  trt2\n",
       "27        28    6.15  trt2\n",
       "28        29    5.80  trt2\n",
       "29        30    5.26  trt2>"
      ]
     },
     "execution_count": 37,
     "metadata": {},
     "output_type": "execute_result"
    }
   ],
   "source": [
    "df.info"
   ]
  },
  {
   "cell_type": "code",
   "execution_count": 38,
   "metadata": {},
   "outputs": [
    {
     "data": {
      "text/plain": [
       "array(['ctrl', 'trt1', 'trt2'], dtype=object)"
      ]
     },
     "execution_count": 38,
     "metadata": {},
     "output_type": "execute_result"
    }
   ],
   "source": [
    "unique_class = df.group.unique()\n",
    "unique_class"
   ]
  },
  {
   "cell_type": "code",
   "execution_count": 49,
   "metadata": {},
   "outputs": [
    {
     "name": "stdout",
     "output_type": "stream",
     "text": [
      "ctrl: 10\t trt1: 10 \t trt2: 10\n"
     ]
    }
   ],
   "source": [
    "group_ctrl=df.loc[df[\"group\"]==\"ctrl\"]\n",
    "group_trt1=df.loc[df[\"group\"]==\"trt1\"]\n",
    "group_trt2=df.loc[df[\"group\"]==\"trt2\"]\n",
    "\n",
    "print (f\"ctrl: {len(group_ctrl)}\\t trt1: {len(group_trt1)} \\t trt2: {len(group_trt2)}\")"
   ]
  },
  {
   "cell_type": "code",
   "execution_count": 40,
   "metadata": {},
   "outputs": [
    {
     "name": "stdout",
     "output_type": "stream",
     "text": [
      "Group: \tctrl, \n",
      "min     4.170000\n",
      "max     6.110000\n",
      "mean    5.032000\n",
      "std     0.583091\n",
      "Name: weight, dtype: float64\n",
      "\n",
      "Group: \ttrt1, \n",
      "min     3.590000\n",
      "max     6.030000\n",
      "mean    4.661000\n",
      "std     0.793676\n",
      "Name: weight, dtype: float64\n",
      "\n",
      "Group: \ttrt2, \n",
      "min     4.920000\n",
      "max     6.310000\n",
      "mean    5.526000\n",
      "std     0.442573\n",
      "Name: weight, dtype: float64\n",
      "\n"
     ]
    }
   ],
   "source": [
    "# Cycle through the three groups and print summary stats for each one\n",
    "\n",
    "grp=0\n",
    "while grp < 3:\n",
    "     data = df.loc[df[\"group\"]==unique_class[grp]]\n",
    "     data = data.describe().weight[['min', 'max', 'mean', 'std']]\n",
    "     print(f\"Group: \\t{unique_class[grp]}, \\n{data}\\n\")\n",
    "     grp=grp+1"
   ]
  },
  {
   "cell_type": "markdown",
   "metadata": {},
   "source": [
    "## $t$ Test ##\n",
    "\n",
    "A $t$ Test is...   \n",
    "\n",
    "It was developed by...   \n",
    "\n",
    "There are three different flavours of the t Test:      \n",
    "- One Sample t Test   \n",
    "- Independent Sample t Test   \n",
    "- Paired Sample t Test   \n",
    "    \n",
    "It works by...   \n",
    "\n",
    "Assumptions are...   \n",
    "- The data in each group should be normally distributed   \n",
    "- The data in each group should be independent of each other   \n",
    "- the spread of values in each group should be similar   \n",
    "- The data should have no extreme outliers"
   ]
  },
  {
   "cell_type": "markdown",
   "metadata": {},
   "source": [
    "Perform t-test\n",
    "\n",
    "first - check the assumptions above are correct...use plots etc"
   ]
  },
  {
   "cell_type": "code",
   "execution_count": 50,
   "metadata": {},
   "outputs": [
    {
     "data": {
      "text/plain": [
       "10    4.81\n",
       "11    4.17\n",
       "12    4.41\n",
       "13    3.59\n",
       "14    5.87\n",
       "15    3.83\n",
       "16    6.03\n",
       "17    4.89\n",
       "18    4.32\n",
       "19    4.69\n",
       "Name: weight, dtype: float64"
      ]
     },
     "execution_count": 50,
     "metadata": {},
     "output_type": "execute_result"
    }
   ],
   "source": [
    "group_trt1['weight']\n"
   ]
  },
  {
   "cell_type": "code",
   "execution_count": null,
   "metadata": {},
   "outputs": [
    {
     "data": {
      "image/png": "[encoded data removed]",
      "text/plain": [
       "<Figure size 640x480 with 2 Axes>"
      ]
     },
     "metadata": {},
     "output_type": "display_data"
    }
   ],
   "source": [
    "# Histograms\n",
    "\n",
    "fig, ax = plt.subplots(1,2)\n",
    "ax[0].hist(group_trt1['weight'],bins=20)\n",
    "ax[0].set_title(\"trt1\")\n",
    "ax[1].hist(group_trt2['weight'],bins=20)\n",
    "ax[1].set_title(\"trt2\");\n"
   ]
  },
  {
   "cell_type": "markdown",
   "metadata": {},
   "source": []
  },
  {
   "cell_type": "markdown",
   "metadata": {},
   "source": [
    "ANOVA test - description"
   ]
  },
  {
   "cell_type": "markdown",
   "metadata": {},
   "source": [
    "Perform ANOVA test"
   ]
  },
  {
   "cell_type": "markdown",
   "metadata": {},
   "source": [
    "Explain why ANOVA is more appropriate when analysinng more than two groups"
   ]
  }
 ],
 "metadata": {
  "kernelspec": {
   "display_name": "base",
   "language": "python",
   "name": "python3"
  },
  "language_info": {
   "codemirror_mode": {
    "name": "ipython",
    "version": 3
   },
   "file_extension": ".py",
   "mimetype": "text/x-python",
   "name": "python",
   "nbconvert_exporter": "python",
   "pygments_lexer": "ipython3",
   "version": "3.11.4"
  }
 },
 "nbformat": 4,
 "nbformat_minor": 2
}
