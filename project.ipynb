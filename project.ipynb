{
 "cells": [
  {
   "cell_type": "markdown",
   "metadata": {},
   "source": [
    "Project notebook for applied_statistics"
   ]
  },
  {
   "cell_type": "markdown",
   "metadata": {},
   "source": [
    "Import the data"
   ]
  },
  {
   "cell_type": "code",
   "execution_count": 1,
   "metadata": {},
   "outputs": [
    {
     "name": "stdout",
     "output_type": "stream",
     "text": [
      "[['rownames', 'weight', 'group'], ['1', '4.17', 'ctrl'], ['2', '5.58', 'ctrl'], ['3', '5.18', 'ctrl'], ['4', '6.11', 'ctrl'], ['5', '4.5', 'ctrl'], ['6', '4.61', 'ctrl'], ['7', '5.17', 'ctrl'], ['8', '4.53', 'ctrl'], ['9', '5.33', 'ctrl'], ['10', '5.14', 'ctrl'], ['11', '4.81', 'trt1'], ['12', '4.17', 'trt1'], ['13', '4.41', 'trt1'], ['14', '3.59', 'trt1'], ['15', '5.87', 'trt1'], ['16', '3.83', 'trt1'], ['17', '6.03', 'trt1'], ['18', '4.89', 'trt1'], ['19', '4.32', 'trt1'], ['20', '4.69', 'trt1'], ['21', '6.31', 'trt2'], ['22', '5.12', 'trt2'], ['23', '5.54', 'trt2'], ['24', '5.5', 'trt2'], ['25', '5.37', 'trt2'], ['26', '5.29', 'trt2'], ['27', '4.92', 'trt2'], ['28', '6.15', 'trt2'], ['29', '5.8', 'trt2'], ['30', '5.26', 'trt2']]\n"
     ]
    }
   ],
   "source": [
    "import csv\n",
    "\n",
    "with open('PlantGrowth.csv', newline='') as csvfile:\n",
    "    data = list(csv.reader(csvfile))\n",
    "\n",
    "print(data)"
   ]
  },
  {
   "cell_type": "markdown",
   "metadata": {},
   "source": [
    "Describe the data"
   ]
  },
  {
   "cell_type": "markdown",
   "metadata": {},
   "source": [
    "t-test - what it is, how it works and assumptions"
   ]
  },
  {
   "cell_type": "markdown",
   "metadata": {},
   "source": [
    "Perform t-test"
   ]
  },
  {
   "cell_type": "markdown",
   "metadata": {},
   "source": [
    "ANOVA test - description"
   ]
  },
  {
   "cell_type": "markdown",
   "metadata": {},
   "source": [
    "Perform ANOVA test"
   ]
  },
  {
   "cell_type": "markdown",
   "metadata": {},
   "source": [
    "Explain why ANOVA is more appropriate when analysinng more than two groups"
   ]
  }
 ],
 "metadata": {
  "kernelspec": {
   "display_name": "base",
   "language": "python",
   "name": "python3"
  },
  "language_info": {
   "codemirror_mode": {
    "name": "ipython",
    "version": 3
   },
   "file_extension": ".py",
   "mimetype": "text/x-python",
   "name": "python",
   "nbconvert_exporter": "python",
   "pygments_lexer": "ipython3",
   "version": "3.11.4"
  }
 },
 "nbformat": 4,
 "nbformat_minor": 2
}
