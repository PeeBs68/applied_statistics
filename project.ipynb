{
 "cells": [
  {
   "cell_type": "markdown",
   "metadata": {},
   "source": [
    "# Project notebook for applied_statistics"
   ]
  },
  {
   "cell_type": "markdown",
   "metadata": {},
   "source": [
    "This notebook is designed to analyse the PlantGrowth dataset and perform statistical analysis on it using $t$ test and ANOVA methods.\n",
    "The dataset was downloaded from https://github.com/vincentarelbundock/Rdatasets/blob/master/csv/datasets/PlantGrowth.csv and contains results of an experiment to compare the weights of plants under three different conditions.\n"
   ]
  },
  {
   "cell_type": "code",
   "execution_count": 1,
   "metadata": {},
   "outputs": [],
   "source": [
    "# Import any required modules\n",
    "\n",
    "# Data Frames\n",
    "import pandas as pd\n",
    "\n",
    "# Numerical Arrays\n",
    "import numpy as np\n",
    "\n",
    "# Plotting\n",
    "import matplotlib.pyplot as plt\n",
    "\n",
    "# Statistical plotting\n",
    "import seaborn as sns\n",
    "\n",
    "# Statistics\n",
    "import scipy.stats as stats"
   ]
  },
  {
   "cell_type": "code",
   "execution_count": 2,
   "metadata": {},
   "outputs": [
    {
     "data": {
      "text/html": [
       "<div>\n",
       "<style scoped>\n",
       "    .dataframe tbody tr th:only-of-type {\n",
       "        vertical-align: middle;\n",
       "    }\n",
       "\n",
       "    .dataframe tbody tr th {\n",
       "        vertical-align: top;\n",
       "    }\n",
       "\n",
       "    .dataframe thead th {\n",
       "        text-align: right;\n",
       "    }\n",
       "</style>\n",
       "<table border=\"1\" class=\"dataframe\">\n",
       "  <thead>\n",
       "    <tr style=\"text-align: right;\">\n",
       "      <th></th>\n",
       "      <th>rownames</th>\n",
       "      <th>weight</th>\n",
       "      <th>group</th>\n",
       "    </tr>\n",
       "  </thead>\n",
       "  <tbody>\n",
       "    <tr>\n",
       "      <th>0</th>\n",
       "      <td>1</td>\n",
       "      <td>4.17</td>\n",
       "      <td>ctrl</td>\n",
       "    </tr>\n",
       "    <tr>\n",
       "      <th>1</th>\n",
       "      <td>2</td>\n",
       "      <td>5.58</td>\n",
       "      <td>ctrl</td>\n",
       "    </tr>\n",
       "    <tr>\n",
       "      <th>2</th>\n",
       "      <td>3</td>\n",
       "      <td>5.18</td>\n",
       "      <td>ctrl</td>\n",
       "    </tr>\n",
       "    <tr>\n",
       "      <th>3</th>\n",
       "      <td>4</td>\n",
       "      <td>6.11</td>\n",
       "      <td>ctrl</td>\n",
       "    </tr>\n",
       "    <tr>\n",
       "      <th>4</th>\n",
       "      <td>5</td>\n",
       "      <td>4.50</td>\n",
       "      <td>ctrl</td>\n",
       "    </tr>\n",
       "  </tbody>\n",
       "</table>\n",
       "</div>"
      ],
      "text/plain": [
       "   rownames  weight group\n",
       "0         1    4.17  ctrl\n",
       "1         2    5.58  ctrl\n",
       "2         3    5.18  ctrl\n",
       "3         4    6.11  ctrl\n",
       "4         5    4.50  ctrl"
      ]
     },
     "execution_count": 2,
     "metadata": {},
     "output_type": "execute_result"
    }
   ],
   "source": [
    "# Import the data into a dataframe \n",
    "\n",
    "df = pd.read_csv('data/plantgrowth.csv')\n",
    "\n",
    "# Quick look at the data\n",
    "df.head()"
   ]
  },
  {
   "cell_type": "markdown",
   "metadata": {},
   "source": [
    "Describe the data"
   ]
  },
  {
   "cell_type": "code",
   "execution_count": 3,
   "metadata": {},
   "outputs": [
    {
     "data": {
      "text/html": [
       "<div>\n",
       "<style scoped>\n",
       "    .dataframe tbody tr th:only-of-type {\n",
       "        vertical-align: middle;\n",
       "    }\n",
       "\n",
       "    .dataframe tbody tr th {\n",
       "        vertical-align: top;\n",
       "    }\n",
       "\n",
       "    .dataframe thead th {\n",
       "        text-align: right;\n",
       "    }\n",
       "</style>\n",
       "<table border=\"1\" class=\"dataframe\">\n",
       "  <thead>\n",
       "    <tr style=\"text-align: right;\">\n",
       "      <th></th>\n",
       "      <th>rownames</th>\n",
       "      <th>weight</th>\n",
       "    </tr>\n",
       "  </thead>\n",
       "  <tbody>\n",
       "    <tr>\n",
       "      <th>count</th>\n",
       "      <td>30.000000</td>\n",
       "      <td>30.000000</td>\n",
       "    </tr>\n",
       "    <tr>\n",
       "      <th>mean</th>\n",
       "      <td>15.500000</td>\n",
       "      <td>5.073000</td>\n",
       "    </tr>\n",
       "    <tr>\n",
       "      <th>std</th>\n",
       "      <td>8.803408</td>\n",
       "      <td>0.701192</td>\n",
       "    </tr>\n",
       "    <tr>\n",
       "      <th>min</th>\n",
       "      <td>1.000000</td>\n",
       "      <td>3.590000</td>\n",
       "    </tr>\n",
       "    <tr>\n",
       "      <th>25%</th>\n",
       "      <td>8.250000</td>\n",
       "      <td>4.550000</td>\n",
       "    </tr>\n",
       "    <tr>\n",
       "      <th>50%</th>\n",
       "      <td>15.500000</td>\n",
       "      <td>5.155000</td>\n",
       "    </tr>\n",
       "    <tr>\n",
       "      <th>75%</th>\n",
       "      <td>22.750000</td>\n",
       "      <td>5.530000</td>\n",
       "    </tr>\n",
       "    <tr>\n",
       "      <th>max</th>\n",
       "      <td>30.000000</td>\n",
       "      <td>6.310000</td>\n",
       "    </tr>\n",
       "  </tbody>\n",
       "</table>\n",
       "</div>"
      ],
      "text/plain": [
       "        rownames     weight\n",
       "count  30.000000  30.000000\n",
       "mean   15.500000   5.073000\n",
       "std     8.803408   0.701192\n",
       "min     1.000000   3.590000\n",
       "25%     8.250000   4.550000\n",
       "50%    15.500000   5.155000\n",
       "75%    22.750000   5.530000\n",
       "max    30.000000   6.310000"
      ]
     },
     "execution_count": 3,
     "metadata": {},
     "output_type": "execute_result"
    }
   ],
   "source": [
    "df.describe()"
   ]
  },
  {
   "cell_type": "code",
   "execution_count": 4,
   "metadata": {},
   "outputs": [
    {
     "data": {
      "text/plain": [
       "(30, 3)"
      ]
     },
     "execution_count": 4,
     "metadata": {},
     "output_type": "execute_result"
    }
   ],
   "source": [
    "df.shape"
   ]
  },
  {
   "cell_type": "code",
   "execution_count": 5,
   "metadata": {},
   "outputs": [
    {
     "data": {
      "text/plain": [
       "<bound method DataFrame.info of     rownames  weight group\n",
       "0          1    4.17  ctrl\n",
       "1          2    5.58  ctrl\n",
       "2          3    5.18  ctrl\n",
       "3          4    6.11  ctrl\n",
       "4          5    4.50  ctrl\n",
       "5          6    4.61  ctrl\n",
       "6          7    5.17  ctrl\n",
       "7          8    4.53  ctrl\n",
       "8          9    5.33  ctrl\n",
       "9         10    5.14  ctrl\n",
       "10        11    4.81  trt1\n",
       "11        12    4.17  trt1\n",
       "12        13    4.41  trt1\n",
       "13        14    3.59  trt1\n",
       "14        15    5.87  trt1\n",
       "15        16    3.83  trt1\n",
       "16        17    6.03  trt1\n",
       "17        18    4.89  trt1\n",
       "18        19    4.32  trt1\n",
       "19        20    4.69  trt1\n",
       "20        21    6.31  trt2\n",
       "21        22    5.12  trt2\n",
       "22        23    5.54  trt2\n",
       "23        24    5.50  trt2\n",
       "24        25    5.37  trt2\n",
       "25        26    5.29  trt2\n",
       "26        27    4.92  trt2\n",
       "27        28    6.15  trt2\n",
       "28        29    5.80  trt2\n",
       "29        30    5.26  trt2>"
      ]
     },
     "execution_count": 5,
     "metadata": {},
     "output_type": "execute_result"
    }
   ],
   "source": [
    "df.info"
   ]
  },
  {
   "cell_type": "code",
   "execution_count": 6,
   "metadata": {},
   "outputs": [
    {
     "data": {
      "text/plain": [
       "array(['ctrl', 'trt1', 'trt2'], dtype=object)"
      ]
     },
     "execution_count": 6,
     "metadata": {},
     "output_type": "execute_result"
    }
   ],
   "source": [
    "# Show the unique groups/classes\n",
    "unique_class = df.group.unique()\n",
    "unique_class"
   ]
  },
  {
   "cell_type": "code",
   "execution_count": 7,
   "metadata": {},
   "outputs": [
    {
     "name": "stdout",
     "output_type": "stream",
     "text": [
      "ctrl: 10\t trt1: 10 \t trt2: 10\n"
     ]
    }
   ],
   "source": [
    "# Split the data into three variables for ease of analysis and plotting\n",
    "group_ctrl=df.loc[df[\"group\"]==\"ctrl\"]\n",
    "group_trt1=df.loc[df[\"group\"]==\"trt1\"]\n",
    "group_trt2=df.loc[df[\"group\"]==\"trt2\"]\n",
    "\n",
    "# Print the number of rows in each group to confirm they are equal\n",
    "print (f\"ctrl: {len(group_ctrl)}\\t trt1: {len(group_trt1)} \\t trt2: {len(group_trt2)}\")"
   ]
  },
  {
   "cell_type": "code",
   "execution_count": 8,
   "metadata": {},
   "outputs": [
    {
     "name": "stdout",
     "output_type": "stream",
     "text": [
      "Group: \tctrl, \n",
      "min     4.170000\n",
      "max     6.110000\n",
      "mean    5.032000\n",
      "std     0.583091\n",
      "Name: weight, dtype: float64\n",
      "\n",
      "Group: \ttrt1, \n",
      "min     3.590000\n",
      "max     6.030000\n",
      "mean    4.661000\n",
      "std     0.793676\n",
      "Name: weight, dtype: float64\n",
      "\n",
      "Group: \ttrt2, \n",
      "min     4.920000\n",
      "max     6.310000\n",
      "mean    5.526000\n",
      "std     0.442573\n",
      "Name: weight, dtype: float64\n",
      "\n"
     ]
    }
   ],
   "source": [
    "# Cycle through the three groups and print summary stats for each one\n",
    "grp=0\n",
    "while grp < 3:\n",
    "     data = df.loc[df[\"group\"]==unique_class[grp]]\n",
    "     data = data.describe().weight[['min', 'max', 'mean', 'std']]\n",
    "     print(f\"Group: \\t{unique_class[grp]}, \\n{data}\\n\")\n",
    "     grp=grp+1"
   ]
  },
  {
   "cell_type": "markdown",
   "metadata": {},
   "source": [
    "## $t$ Test ##\n",
    "\n",
    "A $t$ Test (or t distribution test or Student $t$ Test) is a statistical test used to compare the means of two groups. Starting with an assumption that the two populations are the same and that there is no difference between them, the results of the t test will either prove of disprove the null hypothesis.   \n",
    "The test was developed by W.S. Gosset, an employee of the Guiness brewery in Dublin and as he was not allowed to publish it under his own name he used the pseudonym \"Student\" which gives the test it's name. (https://www.qualtrics.com/en-gb/experience-management/research/t-test/)   \n",
    "\n",
    "There are two main flavours of the t Test:      \n",
    "- Independent Samples t Test   \n",
    "- Dependent/Paired Samples t Test   \n",
    "\n",
    "Dependent/Paired Sample t Test - works by comparing the means between two related groups on the same continuous dependent variable.   \n",
    "Independent Sample t Test - works by comparing the means of two unrelated groups on the same continuous dependent variable.    \n",
    "\n",
    "the most relevant output from a $t$ test is the $p$ value. If the $p$ value is less than 0.05 (typically) then the result is said to be statistically significant and in hypothesis testing we would reject the null hypothesis. If the $p$ value is greater than 0.05 then the result is said to be insignificant and we would fail to reject the null hypothisis, meaning that we do not have sufficient evidence to say that the means are different."
   ]
  },
  {
   "cell_type": "markdown",
   "metadata": {},
   "source": [
    "### Assumptions\n",
    "The following assumptions should be checked and verified to confirm that the data are suitable to be used within a $t$ test.Taken from laerd.com (https://statistics.laerd.com/spss-tutorials/independent-t-test-using-spss-statistics.php)\n",
    "- The dependent variable should be measured on a continuous scale.\n",
    "- The independent variable should consist of two categorical, independent groups. \n",
    "- There should be no relationship between the observations in each group.   \n",
    "- There should be no significant outliers.   \n",
    "- The dependent variable should be approximately normally distributed for each group of observations.   \n",
    "- There needs to be homogeneity of variances - Levene’s test!"
   ]
  },
  {
   "cell_type": "markdown",
   "metadata": {},
   "source": [
    "We will test these assumptions below:"
   ]
  },
  {
   "cell_type": "markdown",
   "metadata": {},
   "source": [
    "Assumption 1, 2, 3 - The dependent variable is weight which is a continuous variable. We have two categorical, independent groups - trt1 and trt2. Both trt1 and trt2 are independent groups with no relationship between the observations in each group."
   ]
  },
  {
   "cell_type": "markdown",
   "metadata": {},
   "source": [
    "Assumption 4 - Next, using a box plot we can check for the existance any significant outliers.   \n",
    "\n",
    "Although we do see two points that look like outliers for group = trt1 we have no reason to believe that these are errors such as measurement/data entry errors so are potentially true extreme values. Although they could have some impact on our results we have no reason to exclude them from our analysis at this point."
   ]
  },
  {
   "cell_type": "code",
   "execution_count": 9,
   "metadata": {},
   "outputs": [],
   "source": [
    "# Convert the data to dataframe for plotting\n",
    "\n",
    "data = pd.concat([\n",
    "    pd.DataFrame({\"weight\": group_trt1[\"weight\"], \"group\": \"trt1\"}),\n",
    "    pd.DataFrame({\"weight\": group_trt2[\"weight\"], \"group\": \"trt2\"})\n",
    "])"
   ]
  },
  {
   "cell_type": "markdown",
   "metadata": {},
   "source": [
    "Boxchart using seaborn"
   ]
  },
  {
   "cell_type": "code",
   "execution_count": 10,
   "metadata": {},
   "outputs": [
    {
     "data": {
      "image/png": "[encoded data removed]",
      "text/plain": [
       "<Figure size 640x480 with 1 Axes>"
      ]
     },
     "metadata": {},
     "output_type": "display_data"
    }
   ],
   "source": [
    "# Plot a boxchart\n",
    "# https://seaborn.pydata.org/generated/seaborn.boxplot.html#seaborn-boxplot\n",
    "\n",
    "sns.boxplot(data=data, x=\"group\", y=\"weight\");"
   ]
  },
  {
   "cell_type": "markdown",
   "metadata": {},
   "source": [
    "Assumption 5 - Using histograms we can validate if the data is normally distributed. Even though our sample size is small the histograms below show that the data pretty much follows a bell curve and has no extreme outliers so we can say it is normally distributed also. "
   ]
  },
  {
   "cell_type": "code",
   "execution_count": 11,
   "metadata": {},
   "outputs": [
    {
     "data": {
      "image/png": "[encoded data removed]",
      "text/plain": [
       "<Figure size 640x480 with 2 Axes>"
      ]
     },
     "metadata": {},
     "output_type": "display_data"
    }
   ],
   "source": [
    "# Plot histograms for both sets of data\n",
    "\n",
    "fig, ax = plt.subplots(1,2)\n",
    "\n",
    "# Treatment Group1\n",
    "ax[0].hist(group_trt1['weight'],bins=20)\n",
    "ax[0].set_title(\"trt1\")\n",
    "\n",
    "# Treatment Group2\n",
    "ax[1].hist(group_trt2['weight'],bins=20)\n",
    "ax[1].set_title(\"trt2\");"
   ]
  },
  {
   "cell_type": "markdown",
   "metadata": {},
   "source": [
    "Use Shapiro Wilks test to confirm if the data is normally distributed"
   ]
  },
  {
   "cell_type": "code",
   "execution_count": 12,
   "metadata": {},
   "outputs": [
    {
     "data": {
      "text/plain": [
       "ShapiroResult(statistic=0.9304108619689941, pvalue=0.451945960521698)"
      ]
     },
     "execution_count": 12,
     "metadata": {},
     "output_type": "execute_result"
    }
   ],
   "source": [
    "# Shapiro Wilks test for normality - trt1\n",
    "# https://docs.scipy.org/doc/scipy/reference/generated/scipy.stats.shapiro.html#shapiro\n",
    "\n",
    "res1 = stats.shapiro(group_trt1[\"weight\"])\n",
    "res1"
   ]
  },
  {
   "cell_type": "markdown",
   "metadata": {},
   "source": [
    "Shapiro Wilks Test for Normality"
   ]
  },
  {
   "cell_type": "code",
   "execution_count": 13,
   "metadata": {},
   "outputs": [
    {
     "data": {
      "text/plain": [
       "ShapiroResult(statistic=0.941005289554596, pvalue=0.5642533898353577)"
      ]
     },
     "execution_count": 13,
     "metadata": {},
     "output_type": "execute_result"
    }
   ],
   "source": [
    "# Shapiro Wilks test for normality - trt2\n",
    "# https://docs.scipy.org/doc/scipy/reference/generated/scipy.stats.shapiro.html#shapiro\n",
    "\n",
    "res2 = stats.shapiro(group_trt2[\"weight\"])\n",
    "res2"
   ]
  },
  {
   "cell_type": "markdown",
   "metadata": {},
   "source": [
    "Since both p values are greater than 0.05 so we have no reason to reject the null hypothesis that the data are normally distributed"
   ]
  },
  {
   "cell_type": "code",
   "execution_count": 14,
   "metadata": {},
   "outputs": [],
   "source": [
    "# Convert the data to dataframe for plotting\n",
    "\n",
    "data = pd.concat([\n",
    "    pd.DataFrame({\"weight\": group_trt1[\"weight\"], \"group\": \"trt1\"}),\n",
    "    pd.DataFrame({\"weight\": group_trt2[\"weight\"], \"group\": \"trt2\"})\n",
    "])"
   ]
  },
  {
   "cell_type": "markdown",
   "metadata": {},
   "source": [
    "A strip plot will show us the concentration of the data and visualise the distribution of values. This type of chart is particulrily useful when the sample size is small."
   ]
  },
  {
   "cell_type": "code",
   "execution_count": 15,
   "metadata": {},
   "outputs": [
    {
     "data": {
      "image/png": "[encoded data removed]",
      "text/plain": [
       "<Figure size 640x480 with 1 Axes>"
      ]
     },
     "metadata": {},
     "output_type": "display_data"
    }
   ],
   "source": [
    "# Plot a stripplot \n",
    "# https://seaborn.pydata.org/generated/seaborn.stripplot.html#seaborn-stripplot\n",
    "\n",
    "sns.stripplot(data=data, x=\"group\", y=\"weight\");"
   ]
  },
  {
   "cell_type": "markdown",
   "metadata": {},
   "source": [
    "From the strip plot above we can clearly see that there are different ranges of values in both sets of data."
   ]
  },
  {
   "cell_type": "markdown",
   "metadata": {},
   "source": [
    "Assumption 6 - we can test for this using Levene's test for homography of variance to validate if the two sample groups have similar variance."
   ]
  },
  {
   "cell_type": "code",
   "execution_count": 16,
   "metadata": {},
   "outputs": [
    {
     "data": {
      "text/plain": [
       "2.104177792800407"
      ]
     },
     "execution_count": 16,
     "metadata": {},
     "output_type": "execute_result"
    }
   ],
   "source": [
    "# Levene Test for Homography of Variance\n",
    "# https://docs.scipy.org/doc/scipy/reference/generated/scipy.stats.levene.html#levene\n",
    "\n",
    "res = stats.levene(group_trt1[\"weight\"], group_trt2[\"weight\"])\n",
    "res.statistic"
   ]
  },
  {
   "cell_type": "markdown",
   "metadata": {},
   "source": [
    "With a p value greater than 0.05 we have no reason to reject the null hypothesis that variance is the same across the two groups and can assume that there is homography of variance between the two sets of data."
   ]
  },
  {
   "cell_type": "markdown",
   "metadata": {},
   "source": [
    "### Perform $t$-test"
   ]
  },
  {
   "cell_type": "markdown",
   "metadata": {},
   "source": [
    "Given that our data has satisfied the above conditions, we will use the independent samples t test."
   ]
  },
  {
   "cell_type": "code",
   "execution_count": 17,
   "metadata": {},
   "outputs": [
    {
     "data": {
      "text/plain": [
       "Ttest_indResult(statistic=-3.0100985421243616, pvalue=0.0075184261182198574)"
      ]
     },
     "execution_count": 17,
     "metadata": {},
     "output_type": "execute_result"
    }
   ],
   "source": [
    "# Perform the t test\n",
    "# https://docs.scipy.org/doc/scipy/reference/generated/scipy.stats.ttest_ind.html#ttest-ind\n",
    "\n",
    "stats.ttest_ind(group_trt1[\"weight\"], group_trt2[\"weight\"])"
   ]
  },
  {
   "cell_type": "markdown",
   "metadata": {},
   "source": [
    "With a p value that is < 0.5 we can reject the null hypothesis that there is no significant difference between the two groups and accept the alternative hypothesis that the groups are significantly different."
   ]
  },
  {
   "cell_type": "markdown",
   "metadata": {},
   "source": [
    "## ANOVA test ##\n",
    "\n",
    "ANOVA which stands for Anayysis of Variance, is a test that is generally used to determine if there is a difference between the means of three or more unrelated groups of data. (https://www.qualtrics.com/en-gb/experience-management/research/anova/)     \n",
    "\n",
    "There are two flovours of ANOVA test:   \n",
    "- One way ANOVA - used to test for the differences between three or more groups of data with one independent variable\n",
    "- Two way ANOVA - used to test for the differences between three or more groups of data with two independent variables\n",
    "\n",
    "Note that an ANOVA test is classed as an OMNIBUS test in that it won't tell us which of the groups are different, only that at least one of the groups is different from one or more of the others. To identify which groups are different, Tukeys HSD (Honestly Significant Different) test can be used to compare all possible pairs of means (https://en.wikipedia.org/wiki/Tukey%27s_range_test)."
   ]
  },
  {
   "cell_type": "markdown",
   "metadata": {},
   "source": [
    "### Assumptions\n",
    "The following assumptions should be checked and verified to confirm that the data are suitable for a one way ANOVA test. Taken from laerd.com (https://statistics.laerd.com/spss-tutorials/one-way-anova-using-spss-statistics.php)\n",
    "- The dependent variable should be measured on a continuous scale.\n",
    "- The independent variable should consist of two or more categorical, independent groups. \n",
    "- There should be no relationship between the observations in each group.   \n",
    "- There should be no significant outliers.   \n",
    "- The dependent variable should be approximately normally distributed for each group of observations.   \n",
    "- There needs to be homogeneity of variances - Levene’s test!"
   ]
  },
  {
   "cell_type": "markdown",
   "metadata": {},
   "source": [
    "We can note that the assumptions are the same as for the $t$ test performed earlier so there is no reason to test for them all again here, assumption1, 2, 3 are already satisfied from above."
   ]
  },
  {
   "cell_type": "markdown",
   "metadata": {},
   "source": [
    "Assumption 4 - using a box plot we can check for the existance any significant outliers in the data and include the ctrl group in our plot."
   ]
  },
  {
   "cell_type": "code",
   "execution_count": 18,
   "metadata": {},
   "outputs": [
    {
     "data": {
      "image/png": "[encoded data removed]",
      "text/plain": [
       "<Figure size 640x480 with 1 Axes>"
      ]
     },
     "metadata": {},
     "output_type": "display_data"
    }
   ],
   "source": [
    "# Plot a boxchart\n",
    "# https://seaborn.pydata.org/generated/seaborn.boxplot.html#seaborn-boxplot\n",
    "\n",
    "# Define the data\n",
    "data = pd.concat([\n",
    "    pd.DataFrame({\"weight\": group_ctrl[\"weight\"], \"group\": \"ctrl\"}),\n",
    "    pd.DataFrame({\"weight\": group_trt1[\"weight\"], \"group\": \"trt1\"}),\n",
    "    pd.DataFrame({\"weight\": group_trt2[\"weight\"], \"group\": \"trt2\"})\n",
    "])\n",
    "\n",
    "# Plot\n",
    "sns.boxplot(data=data, x=\"group\", y=\"weight\");"
   ]
  },
  {
   "cell_type": "markdown",
   "metadata": {},
   "source": [
    "Assumption 5 - Using histograms we can validate if the data is normally distributed. Even though our sample size is small the histograms below show that the data pretty much follows a bell curve and has no extreme outliers so we can say it is normally distributed also. "
   ]
  },
  {
   "cell_type": "code",
   "execution_count": 19,
   "metadata": {},
   "outputs": [
    {
     "data": {
      "image/png": "[encoded data removed]",
      "text/plain": [
       "<Figure size 1000x800 with 3 Axes>"
      ]
     },
     "metadata": {},
     "output_type": "display_data"
    }
   ],
   "source": [
    "# Plot histograms for the three sets of data\n",
    "\n",
    "fig, ax = plt.subplots(1,3, figsize=(10, 8))\n",
    "ax[0].hist(group_ctrl['weight'],bins=20)\n",
    "ax[0].set_title(\"ctrl\")\n",
    "ax[1].hist(group_trt1['weight'],bins=20)\n",
    "ax[1].set_title(\"trt1\")\n",
    "ax[2].hist(group_trt2['weight'],bins=20)\n",
    "ax[2].set_title(\"trt2\");"
   ]
  },
  {
   "cell_type": "markdown",
   "metadata": {},
   "source": [
    "Assumption 6 - we can test for this using Levene's test for homography of variance to validate if the three sample groups have similar variance. And as with the $t$ test above, with a $p$ value greater than 0.05 we have no reason to reject the null hypothesis that variance is the same across the three groups and can assume that there is homography of variance between the three sets of data."
   ]
  },
  {
   "cell_type": "code",
   "execution_count": 20,
   "metadata": {},
   "outputs": [
    {
     "data": {
      "text/plain": [
       "1.1191856948703909"
      ]
     },
     "execution_count": 20,
     "metadata": {},
     "output_type": "execute_result"
    }
   ],
   "source": [
    "# Levene Test for Homography of Variance\n",
    "# https://docs.scipy.org/doc/scipy/reference/generated/scipy.stats.levene.html#levene\n",
    "\n",
    "res = stats.levene(group_ctrl[\"weight\"], group_trt1[\"weight\"], group_trt2[\"weight\"])\n",
    "res.statistic"
   ]
  },
  {
   "cell_type": "markdown",
   "metadata": {},
   "source": [
    "### Perform ANOVA test"
   ]
  },
  {
   "cell_type": "code",
   "execution_count": 21,
   "metadata": {},
   "outputs": [
    {
     "data": {
      "text/plain": [
       "(4.846087862380136, 0.0159099583256229)"
      ]
     },
     "execution_count": 21,
     "metadata": {},
     "output_type": "execute_result"
    }
   ],
   "source": [
    "# https://docs.scipy.org/doc/scipy/reference/generated/scipy.stats.f_oneway.html#f-oneway\n",
    "\n",
    "f_statistic, p_value = stats.f_oneway(group_ctrl['weight'], group_trt1['weight'], group_trt2['weight'])\n",
    "\n",
    "f_statistic, p_value"
   ]
  },
  {
   "cell_type": "markdown",
   "metadata": {},
   "source": [
    "Reading the result above we can see a $p$ value of less than 0.05 so can reject the null hypothesis that there is no significant difference between the groups of data. "
   ]
  },
  {
   "cell_type": "markdown",
   "metadata": {},
   "source": [
    "### Tukeys HSD ###\n",
    "\n",
    "To determine where the differences are we use Tukeys HSD"
   ]
  },
  {
   "cell_type": "code",
   "execution_count": 22,
   "metadata": {},
   "outputs": [
    {
     "name": "stdout",
     "output_type": "stream",
     "text": [
      "Tukey's HSD Pairwise Group Comparisons (95.0% Confidence Interval)\n",
      "Comparison  Statistic  p-value  Lower CI  Upper CI\n",
      " (0 - 1)      0.371     0.391    -0.320     1.062\n",
      " (0 - 2)     -0.494     0.198    -1.185     0.197\n",
      " (1 - 0)     -0.371     0.391    -1.062     0.320\n",
      " (1 - 2)     -0.865     0.012    -1.556    -0.174\n",
      " (2 - 0)      0.494     0.198    -0.197     1.185\n",
      " (2 - 1)      0.865     0.012     0.174     1.556\n",
      "\n"
     ]
    }
   ],
   "source": [
    "# Tukeys HSD\n",
    "# https://docs.scipy.org/doc/scipy/reference/generated/scipy.stats.tukey_hsd.html#tukey-hsd\n",
    "\n",
    "#res = stats.tukey_hsd(ctrl, trt1, trt2)\n",
    "res = stats.tukey_hsd(df[df[\"group\"] == \"ctrl\"][\"weight\"], df[df[\"group\"] == \"trt1\"][\"weight\"], df[df[\"group\"] == \"trt2\"][\"weight\"])\n",
    "\n",
    "print(res)"
   ]
  },
  {
   "cell_type": "markdown",
   "metadata": {},
   "source": [
    "group0 = \"ctrl\", group1 = \"trt1\", group2 = \"trt2\"   \n",
    "\n",
    "From the results above we can see that only between groups 1 and 2 is the $p$ value less than 0.05 so we can tell that these two groups are similar but that group 0 contains different data than these."
   ]
  },
  {
   "cell_type": "markdown",
   "metadata": {},
   "source": [
    "### ANOVA v $t$ test"
   ]
  },
  {
   "cell_type": "markdown",
   "metadata": {},
   "source": [
    "There are a number of reasons why an ANOVA test is more appropriate than using multiple $t$ tests on three or more groups of data.    \n",
    "\n",
    "Firstly, there is the cost element in terms of effort. Only one ANOVA test is required regardless of the number of groups of data. To produce the equivent results using $t$ tests we would have to run the test multiple times.   \n",
    "For example:   \n",
    "- groups of data = 3 (0, 1, 2), ANOVA tests = 1, $t$ tests = 3 (0 - 1, 1 - 2, 0 - 2).   \n",
    "- groups of data = 4 (0, 1, 2, 3),  ANOVA tests = 1, $t$ tests = 6, (0 - 1, 0 - 2, 0 - 3, 1 - 2, 1 - 3, 2 - 3).   \n",
    "- etc.\n",
    "\n",
    "Secondly, according to laerd (https://statistics.laerd.com/statistical-guides/one-way-anova-statistical-guide-2.php), each time a $t$ test is run there is a chance of of type I error (typically alpha = 0.05 or 5%). With two tests the chances of a type I error is ~10% (5% for each test). With three $t$ tests it is ~15% etc. ANOVA has controls in place so that the type I error remains at 5%.  \n"
   ]
  },
  {
   "cell_type": "markdown",
   "metadata": {},
   "source": [
    "## End"
   ]
  }
 ],
 "metadata": {
  "kernelspec": {
   "display_name": "base",
   "language": "python",
   "name": "python3"
  },
  "language_info": {
   "codemirror_mode": {
    "name": "ipython",
    "version": 3
   },
   "file_extension": ".py",
   "mimetype": "text/x-python",
   "name": "python",
   "nbconvert_exporter": "python",
   "pygments_lexer": "ipython3",
   "version": "3.11.4"
  }
 },
 "nbformat": 4,
 "nbformat_minor": 2
}
